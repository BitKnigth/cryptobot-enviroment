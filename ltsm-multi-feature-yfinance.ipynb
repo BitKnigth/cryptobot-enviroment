{
 "cells": [
  {
   "cell_type": "code",
   "execution_count": 2,
   "metadata": {},
   "outputs": [],
   "source": [
    "import numpy as np\n",
    "import matplotlib.pyplot as plt\n",
    "from tensorflow.keras.models import Sequential\n",
    "from tensorflow.keras.layers import LSTM, Dense, Input, Dropout\n",
    "from tensorflow.keras.metrics import R2Score\n",
    "from sklearn.preprocessing import MinMaxScaler\n",
    "#!pipx install optuna\n",
    "#import optuna\n",
    "from src import pre_process_ewt_data, prepare_data, read_yfinance_crypto_data, full_evaluation_flow, optimize_hyperparameters, split_data_set, model_builder"
   ]
  },
  {
   "cell_type": "code",
   "execution_count": 3,
   "metadata": {},
   "outputs": [
    {
     "name": "stdout",
     "output_type": "stream",
     "text": [
      "Cutoff:  393\n",
      "Cutoff:  393\n",
      "Cutoff:  393\n",
      "Train Data: (919, 1)\n",
      "Test Data: (393, 1)\n",
      "Train Target: (919, 1)\n",
      "Test Data: (393, 1)\n"
     ]
    }
   ],
   "source": [
    "# Fetch Ripple price data\n",
    "df = read_yfinance_crypto_data(\"ata-USD\", \"max\", \"1d\")\n",
    "scaler = MinMaxScaler()\n",
    "vol_scaler = MinMaxScaler()\n",
    "\n",
    "[\n",
    "    [train_date_series, train_data, normalized_data],\n",
    "    [test_date_series, testData, normalized_test_data]\n",
    "] = pre_process_ewt_data(df, scaler, vol_scaler)\n",
    "\n",
    "print(f\"Train Data: {train_data.shape}\\nTest Data: {testData.shape}\")\n",
    "\n",
    "test_target = testData\n",
    "print(f\"Train Target: {train_data.shape}\\nTest Data: {test_target.shape}\")"
   ]
  },
  {
   "cell_type": "code",
   "execution_count": null,
   "metadata": {},
   "outputs": [],
   "source": [
    "# Plot train data\n",
    "plt.figure(figsize=(12, 6))\n",
    "plt.plot(train_date_series, train_data[:], label='Closing')\n",
    "plt.title('Crypto Daily Price Forecasting')\n",
    "plt.xlabel('Date')\n",
    "plt.ylabel('Price (USDT)')\n",
    "plt.legend()\n",
    "\n",
    "plt.figure(figsize=(12, 6))\n",
    "plt.plot(train_date_series, normalized_data, label='NormalizedClosing')\n",
    "plt.title('Normalized')\n",
    "plt.xlabel('Date')\n",
    "plt.ylabel('Norm. Y')\n",
    "plt.legend()\n",
    "plt.show()"
   ]
  },
  {
   "cell_type": "code",
   "execution_count": 4,
   "metadata": {},
   "outputs": [
    {
     "name": "stdout",
     "output_type": "stream",
     "text": [
      "(919, 2)\n",
      "(829, 1) (829, 90, 2) (829,) (829, 1)\n"
     ]
    }
   ],
   "source": [
    "# Prepare data for each EWT component\n",
    "seq_len = 90\n",
    "print(normalized_data.shape)\n",
    "X, y, train_data, train_date_series = prepare_data(\n",
    "    normalized_data,\n",
    "    train_data,\n",
    "    train_date_series,\n",
    "    seq_len\n",
    ")\n",
    "\n",
    "print(y.shape, X.shape, train_date_series.shape, train_data.shape)"
   ]
  },
  {
   "cell_type": "code",
   "execution_count": 5,
   "metadata": {},
   "outputs": [
    {
     "name": "stdout",
     "output_type": "stream",
     "text": [
      "Cutoff:  248\n",
      "Cutoff:  248\n",
      "(581, 90, 2) (248, 90, 2)\n"
     ]
    }
   ],
   "source": [
    "# The training data is separated in a train set to train each opt iteration and a validation one\n",
    "# to validate each iteration.\n",
    "\n",
    "x_train, x_val = split_data_set(X, 0.3)\n",
    "y_train, y_val = split_data_set(y, 0.3)\n",
    "\n",
    "print(x_train.shape, x_val.shape)"
   ]
  },
  {
   "cell_type": "code",
   "execution_count": 5,
   "metadata": {},
   "outputs": [],
   "source": [
    "\n",
    "params = optimize_hyperparameters(\n",
    "    model_builder,\n",
    "    x_train,\n",
    "    y_train,\n",
    "    x_val,\n",
    "    y_val,\n",
    "    optuna\n",
    ")\n",
    "\n",
    "params"
   ]
  },
  {
   "cell_type": "code",
   "execution_count": null,
   "metadata": {},
   "outputs": [],
   "source": [
    "full_evaluation_flow(\n",
    "    model,\n",
    "    prepare_data,\n",
    "    normalized_test_data,\n",
    "    testData,\n",
    "    test_date_series,\n",
    "    seq_len,\n",
    "    \"xrp-multi-feature-optimized-hyperp\"\n",
    ")"
   ]
  },
  {
   "cell_type": "code",
   "execution_count": 8,
   "metadata": {},
   "outputs": [],
   "source": [
    "!mkdir -p saved_models\n",
    "model.save(\"saved_models/xrp-multi-feat-opt-hyperp-p90-2L.keras\")"
   ]
  }
 ],
 "metadata": {
  "kernelspec": {
   "display_name": ".venv",
   "language": "python",
   "name": "python3"
  },
  "language_info": {
   "codemirror_mode": {
    "name": "ipython",
    "version": 3
   },
   "file_extension": ".py",
   "mimetype": "text/x-python",
   "name": "python",
   "nbconvert_exporter": "python",
   "pygments_lexer": "ipython3",
   "version": "3.12.3"
  }
 },
 "nbformat": 4,
 "nbformat_minor": 2
}
